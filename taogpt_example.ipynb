{
 "cells": [
  {
   "cell_type": "code",
   "execution_count": 3,
   "metadata": {
    "collapsed": false,
    "execution": {
     "iopub.execute_input": "2023-07-31T06:11:05.457691Z",
     "iopub.status.busy": "2023-07-31T06:11:05.457328Z",
     "iopub.status.idle": "2023-07-31T06:11:05.487385Z",
     "shell.execute_reply": "2023-07-31T06:11:05.486700Z",
     "shell.execute_reply.started": "2023-07-31T06:11:05.457663Z"
    },
    "ExecuteTime": {
     "end_time": "2023-08-20T02:05:00.171407Z",
     "start_time": "2023-08-20T02:05:00.152559Z"
    }
   },
   "outputs": [],
   "source": [
    "%load_ext autoreload\n",
    "%autoreload 2"
   ]
  },
  {
   "cell_type": "code",
   "execution_count": 4,
   "metadata": {
    "execution": {
     "iopub.execute_input": "2023-07-31T06:11:06.040583Z",
     "iopub.status.busy": "2023-07-31T06:11:06.040283Z",
     "iopub.status.idle": "2023-07-31T06:11:08.236735Z",
     "shell.execute_reply": "2023-07-31T06:11:08.235796Z",
     "shell.execute_reply.started": "2023-07-31T06:11:06.040560Z"
    },
    "ExecuteTime": {
     "end_time": "2023-08-20T02:05:03.360774Z",
     "start_time": "2023-08-20T02:05:01.016435Z"
    }
   },
   "outputs": [],
   "source": [
    "from langchain.chat_models import ChatOpenAI\n",
    "from langchain.chains import ConversationChain\n",
    "import os\n",
    "from IPython.display import display_html\n",
    "import marko\n",
    "\n",
    "from taogpt.orchestrator import *\n",
    "from taogpt.utils import *\n",
    "from taogpt.tao_model import LangChainLLM\n",
    "from taogpt.prompts import PromptSet\n",
    "import taogpt.utils as utils\n",
    "\n",
    "utils.enable_debugging(0)"
   ]
  },
  {
   "cell_type": "code",
   "execution_count": 5,
   "metadata": {
    "collapsed": false,
    "execution": {
     "iopub.execute_input": "2023-07-31T06:11:08.238613Z",
     "iopub.status.busy": "2023-07-31T06:11:08.238227Z",
     "iopub.status.idle": "2023-07-31T06:11:08.268068Z",
     "shell.execute_reply": "2023-07-31T06:11:08.267171Z",
     "shell.execute_reply.started": "2023-07-31T06:11:08.238592Z"
    },
    "ExecuteTime": {
     "end_time": "2023-08-20T02:05:03.377568Z",
     "start_time": "2023-08-20T02:05:03.361524Z"
    }
   },
   "outputs": [],
   "source": [
    "GPT_MODEL = 'gpt-4-32k'\n",
    "TEMPERATURE = 0.7"
   ]
  },
  {
   "cell_type": "code",
   "execution_count": null,
   "metadata": {
    "collapsed": false,
    "execution": {
     "iopub.execute_input": "2023-07-31T06:11:08.269654Z",
     "iopub.status.busy": "2023-07-31T06:11:08.269017Z",
     "iopub.status.idle": "2023-07-31T06:11:10.109116Z",
     "shell.execute_reply": "2023-07-31T06:11:10.108307Z",
     "shell.execute_reply.started": "2023-07-31T06:11:08.269630Z"
    }
   },
   "outputs": [],
   "source": [
    "with open(os.path.join(os.environ['HOME'], '.ssh', 'openai-zillow.key'), 'r') as f:\n",
    "    key = ''.join(f.readlines()).strip()\n",
    "os.environ[\"OPENAI_API_KEY\"] = key\n",
    "os.environ[\"OPENAI_API_BASE\"] = \"https://zgai-llm-api.int.stage-k8s.zg-aip.net/openai/v1\"\n",
    "llm = ChatOpenAI(model_name=GPT_MODEL, temperature=TEMPERATURE)\n",
    "\n",
    "conversation = ConversationChain(llm=llm)\n",
    "conversation.predict(input=\"What's your model version?\")"
   ]
  },
  {
   "cell_type": "code",
   "execution_count": null,
   "metadata": {
    "collapsed": false,
    "execution": {
     "iopub.execute_input": "2023-07-31T06:11:10.111826Z",
     "iopub.status.busy": "2023-07-31T06:11:10.111407Z",
     "iopub.status.idle": "2023-07-31T06:12:26.695021Z",
     "shell.execute_reply": "2023-07-31T06:12:26.694244Z",
     "shell.execute_reply.started": "2023-07-31T06:11:10.111799Z"
    }
   },
   "outputs": [],
   "source": [
    "prompts = PromptSet.load_defaults()\n",
    "logger = MarkdownLogger('logs/taogpt_log.md')\n",
    "executor = Orchestrator(llm=LangChainLLM(llm, logger=logger), prompts=prompts, markdown_logger=logger,\n",
    "                        max_tokens=200000)\n",
    "\n",
    "experiment_name = 'example'\n",
    "executor.start(\"\"\"\n",
    "\"\"\", try_intuition=True)"
   ]
  },
  {
   "cell_type": "code",
   "execution_count": null,
   "metadata": {
    "collapsed": false,
    "execution": {
     "iopub.execute_input": "2023-07-31T06:12:26.696369Z",
     "iopub.status.busy": "2023-07-31T06:12:26.696162Z",
     "iopub.status.idle": "2023-07-31T06:12:26.726978Z",
     "shell.execute_reply": "2023-07-31T06:12:26.726366Z",
     "shell.execute_reply.started": "2023-07-31T06:12:26.696352Z"
    },
    "ExecuteTime": {
     "start_time": "2023-08-21T18:32:07.313331Z"
    }
   },
   "outputs": [],
   "source": [
    "logger = MarkdownLogger(f'examples/{experiment_name}.final.md')\n",
    "logger.log_conversation(executor.show_conversation_thread(with_extras=True))\n",
    "logger.log(f\"**total tokens**: {executor.llm.total_tokens}\")"
   ]
  },
  {
   "cell_type": "code",
   "execution_count": null,
   "metadata": {
    "collapsed": false,
    "execution": {
     "iopub.execute_input": "2023-07-31T06:12:26.728306Z",
     "iopub.status.busy": "2023-07-31T06:12:26.728050Z",
     "iopub.status.idle": "2023-07-31T06:12:26.762760Z",
     "shell.execute_reply": "2023-07-31T06:12:26.762149Z",
     "shell.execute_reply.started": "2023-07-31T06:12:26.728288Z"
    },
    "ExecuteTime": {
     "start_time": "2023-08-21T18:32:07.315271Z"
    }
   },
   "outputs": [],
   "source": [
    "with open(logger._log_path, 'r') as f:\n",
    "    html_output = marko.convert(f.read())\n",
    "    display_html(html_output, raw=True)"
   ]
  },
  {
   "cell_type": "code",
   "execution_count": null,
   "outputs": [],
   "source": [],
   "metadata": {
    "collapsed": false
   }
  }
 ],
 "metadata": {
  "kernelspec": {
   "display_name": "Python 3 (ipykernel)",
   "language": "python",
   "name": "python3"
  },
  "language_info": {
   "codemirror_mode": {
    "name": "ipython",
    "version": 3
   },
   "file_extension": ".py",
   "mimetype": "text/x-python",
   "name": "python",
   "nbconvert_exporter": "python",
   "pygments_lexer": "ipython3",
   "version": "3.9.16"
  }
 },
 "nbformat": 4,
 "nbformat_minor": 4
}
