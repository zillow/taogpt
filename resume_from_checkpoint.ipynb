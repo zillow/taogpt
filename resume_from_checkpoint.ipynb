{
 "cells": [
  {
   "cell_type": "markdown",
   "source": [
    "# Resume problem solving\n",
    "\n",
    "This notebook demonstrates how to load and resume from the states of a previous problem solving session.\n",
    "\n",
    "The last states of a problem solving session is saved in the `taogpt_states.pkl` file under the problem solving log\n",
    "directory."
   ],
   "metadata": {
    "collapsed": false
   },
   "id": "9cf989e91fae1bbe"
  },
  {
   "cell_type": "code",
   "execution_count": null,
   "id": "initial_id",
   "metadata": {
    "collapsed": true
   },
   "outputs": [],
   "source": [
    "# %load_ext autoreload\n",
    "# %autoreload 2"
   ]
  },
  {
   "cell_type": "code",
   "outputs": [],
   "source": [
    "import os\n",
    "import typing as _t\n",
    "import pickle\n",
    "from taogpt import Config\n",
    "from taogpt import runner\n",
    "from taogpt import utils as _utils"
   ],
   "metadata": {
    "collapsed": false
   },
   "id": "efddc0beb80f4c0",
   "execution_count": null
  },
  {
   "cell_type": "code",
   "outputs": [],
   "source": [
    "_utils.set_openai_credentials(\"~/.ssh/openai-credential.ini\")\n",
    "os.environ['OPENAI_API_BASE'] # for OpenAI or compatible REST API"
   ],
   "metadata": {
    "collapsed": false
   },
   "id": "b1cc11e4d55b6395",
   "execution_count": null
  },
  {
   "cell_type": "code",
   "outputs": [],
   "source": [
    "config = Config(initial_expansion=1,\n",
    "                first_try_temperature=0.8,\n",
    "                pause_after_initial_solving_expansion=True)\n",
    "llm = runner.fix_model_name('gpt-4-turbo')\n",
    "log_dir = \"logs\"\n",
    "checkpoint_path = \"logs/taogpt_states.pkl\"\n",
    "\n",
    "previous_states: _t.Optional[_t.Dict[str, _t.Any]]\n",
    "with open(checkpoint_path, 'rb') as f:\n",
    "    previous_states = pickle.load(f)\n",
    "    print(previous_states.keys())\n",
    "executor = runner.create_orchestrator(config, log_dir, llm)\n",
    "executor.set_input_fn(input)\n",
    "\n",
    "executor._chain = previous_states['chain']\n",
    "runner.log_final_chain(executor, \"logs\")"
   ],
   "metadata": {
    "collapsed": false
   },
   "id": "fa472dea1977ac9a",
   "execution_count": null
  },
  {
   "cell_type": "code",
   "outputs": [],
   "source": [
    "print(executor._chain[-1].description)"
   ],
   "metadata": {
    "collapsed": false
   },
   "id": "5b068a170b932285",
   "execution_count": null
  },
  {
   "cell_type": "code",
   "outputs": [],
   "source": [
    "executor.resume(additional_tokens=1000)"
   ],
   "metadata": {
    "collapsed": false
   },
   "id": "a2d7b4daf8f152ec",
   "execution_count": null
  },
  {
   "cell_type": "code",
   "outputs": [],
   "source": [],
   "metadata": {
    "collapsed": false
   },
   "id": "11d6d54d98825d78"
  }
 ],
 "metadata": {
  "kernelspec": {
   "name": "taogpt_dev",
   "language": "python",
   "display_name": "taogpt_dev"
  },
  "language_info": {
   "codemirror_mode": {
    "name": "ipython",
    "version": 2
   },
   "file_extension": ".py",
   "mimetype": "text/x-python",
   "name": "python",
   "nbconvert_exporter": "python",
   "pygments_lexer": "ipython2",
   "version": "2.7.6"
  }
 },
 "nbformat": 4,
 "nbformat_minor": 5
}
