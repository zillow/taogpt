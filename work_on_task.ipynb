{
 "cells": [
  {
   "cell_type": "markdown",
   "source": [
    "# Work on task\n",
    "\n",
    "This notebook demonstrates how to create an orchestrator and work on a task problem."
   ],
   "metadata": {
    "collapsed": false
   },
   "id": "9cf989e91fae1bbe"
  },
  {
   "cell_type": "code",
   "execution_count": null,
   "id": "initial_id",
   "metadata": {
    "collapsed": true
   },
   "outputs": [],
   "source": [
    "# %load_ext autoreload\n",
    "# %autoreload 2"
   ]
  },
  {
   "cell_type": "code",
   "outputs": [],
   "source": [
    "import os\n",
    "\n",
    "from taogpt import Config\n",
    "from taogpt import runner\n",
    "from taogpt import utils as _utils"
   ],
   "metadata": {
    "collapsed": false
   },
   "id": "efddc0beb80f4c0",
   "execution_count": null
  },
  {
   "cell_type": "code",
   "outputs": [],
   "source": [
    "_utils.set_openai_credentials(\"~/.ssh/openai-credential.ini\")\n",
    "os.environ['OPENAI_API_BASE'] # for OpenAI or compatible REST API"
   ],
   "metadata": {
    "collapsed": false
   },
   "id": "b1cc11e4d55b6395",
   "execution_count": null
  },
  {
   "cell_type": "code",
   "outputs": [],
   "source": [
    "config = Config(initial_expansion=1,\n",
    "                first_try_temperature=0.7,\n",
    "                analyze_first=False,\n",
    "                pause_after_initial_solving_expansion=True)\n",
    "llm = runner.fix_model_name('gpt-4-turbo')\n",
    "log_dir = \"logs\"\n",
    "\n",
    "executor = runner.create_orchestrator(config, log_dir, llm)\n",
    "executor.set_input_fn(input)"
   ],
   "metadata": {
    "collapsed": false
   },
   "id": "fa472dea1977ac9a",
   "execution_count": null
  },
  {
   "cell_type": "code",
   "outputs": [],
   "source": [
    "task = \"\"\"\n",
    "Solve this 4x4 Sudoku:\n",
    "\n",
    "```text\n",
    "\n",
    "4 _ _ 1\n",
    "\n",
    "1 _ _ _\n",
    "\n",
    "_ _ 1 _\n",
    "\n",
    "2 _ 3 _\n",
    "\n",
    "```\n",
    "(Do not write codes. Don't ask questions.)\n",
    "\"\"\"\n",
    "\n",
    "executor.start(task)"
   ],
   "metadata": {
    "collapsed": false
   },
   "id": "a2d7b4daf8f152ec",
   "execution_count": null
  },
  {
   "cell_type": "code",
   "outputs": [],
   "source": [
    "# inspect the executor chain\n",
    "for i in range(len(executor.chain)-1, -1, -1):\n",
    "    step = executor.chain[i]\n",
    "    desc = step.description[:80].replace('\\n', '\\\\n')\n",
    "    print(f\"[{i:03d}] {type(step).__name__} {desc}\")"
   ],
   "metadata": {
    "collapsed": false
   },
   "id": "941a3b1efd42dc39",
   "execution_count": null
  },
  {
   "cell_type": "code",
   "outputs": [],
   "source": [
    "# can manipulate the problem solving chain\n",
    "# executor._chain.pop(-1)"
   ],
   "metadata": {
    "collapsed": false
   },
   "id": "4006fdb7d92e4156",
   "execution_count": null
  },
  {
   "cell_type": "code",
   "outputs": [],
   "source": [
    "executor.resume(10000)"
   ],
   "metadata": {
    "collapsed": false
   },
   "id": "9068a59c4efc8f",
   "execution_count": null
  },
  {
   "cell_type": "code",
   "outputs": [],
   "source": [
    "runner.log_final_chain(executor, \"logs\")"
   ],
   "metadata": {
    "collapsed": false
   },
   "id": "1c3282e7d6d00e4a",
   "execution_count": null
  }
 ],
 "metadata": {
  "kernelspec": {
   "name": "taogpt_dev",
   "language": "python",
   "display_name": "taogpt_dev"
  },
  "language_info": {
   "codemirror_mode": {
    "name": "ipython",
    "version": 2
   },
   "file_extension": ".py",
   "mimetype": "text/x-python",
   "name": "python",
   "nbconvert_exporter": "python",
   "pygments_lexer": "ipython2",
   "version": "2.7.6"
  }
 },
 "nbformat": 4,
 "nbformat_minor": 5
}
