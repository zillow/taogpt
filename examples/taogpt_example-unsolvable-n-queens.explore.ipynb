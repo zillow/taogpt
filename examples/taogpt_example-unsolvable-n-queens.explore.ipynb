{
 "cells": [
  {
   "cell_type": "code",
   "execution_count": null,
   "metadata": {
    "collapsed": false,
    "jupyter": {
     "outputs_hidden": false
    }
   },
   "outputs": [],
   "source": [
    "!pip3 install langchain openai marko"
   ]
  },
  {
   "cell_type": "code",
   "execution_count": 1,
   "metadata": {
    "collapsed": false,
    "execution": {
     "iopub.execute_input": "2023-07-31T06:11:05.457691Z",
     "iopub.status.busy": "2023-07-31T06:11:05.457328Z",
     "iopub.status.idle": "2023-07-31T06:11:05.487385Z",
     "shell.execute_reply": "2023-07-31T06:11:05.486700Z",
     "shell.execute_reply.started": "2023-07-31T06:11:05.457663Z"
    },
    "jupyter": {
     "outputs_hidden": false
    }
   },
   "outputs": [],
   "source": [
    "%load_ext autoreload\n",
    "%autoreload 2"
   ]
  },
  {
   "cell_type": "code",
   "execution_count": 2,
   "metadata": {
    "execution": {
     "iopub.execute_input": "2023-07-31T06:11:06.040583Z",
     "iopub.status.busy": "2023-07-31T06:11:06.040283Z",
     "iopub.status.idle": "2023-07-31T06:11:08.236735Z",
     "shell.execute_reply": "2023-07-31T06:11:08.235796Z",
     "shell.execute_reply.started": "2023-07-31T06:11:06.040560Z"
    }
   },
   "outputs": [],
   "source": [
    "from langchain.chat_models import ChatOpenAI\n",
    "from langchain.chains import ConversationChain\n",
    "import os\n",
    "from IPython.display import display_html\n",
    "import marko\n",
    "\n",
    "from taogpt.orchestrator import *\n",
    "from taogpt.utils import *\n",
    "from taogpt.tao_model import LangChainLLM, PromptSet, get_last_conversation\n",
    "import taogpt.utils as utils\n",
    "\n",
    "utils.enable_debugging(0)"
   ]
  },
  {
   "cell_type": "code",
   "execution_count": 3,
   "metadata": {
    "collapsed": false,
    "execution": {
     "iopub.execute_input": "2023-07-31T06:11:08.238613Z",
     "iopub.status.busy": "2023-07-31T06:11:08.238227Z",
     "iopub.status.idle": "2023-07-31T06:11:08.268068Z",
     "shell.execute_reply": "2023-07-31T06:11:08.267171Z",
     "shell.execute_reply.started": "2023-07-31T06:11:08.238592Z"
    },
    "jupyter": {
     "outputs_hidden": false
    }
   },
   "outputs": [],
   "source": [
    "GPT_MODEL = 'gpt-4-32k'\n",
    "TEMPERATURE = 0.7"
   ]
  },
  {
   "cell_type": "code",
   "execution_count": 4,
   "metadata": {
    "collapsed": false,
    "execution": {
     "iopub.execute_input": "2023-07-31T06:11:08.269654Z",
     "iopub.status.busy": "2023-07-31T06:11:08.269017Z",
     "iopub.status.idle": "2023-07-31T06:11:10.109116Z",
     "shell.execute_reply": "2023-07-31T06:11:10.108307Z",
     "shell.execute_reply.started": "2023-07-31T06:11:08.269630Z"
    },
    "jupyter": {
     "outputs_hidden": false
    }
   },
   "outputs": [
    {
     "data": {
      "text/plain": "\"As an AI, I don't have a specific model version as I am continuously updated and improved upon by OpenAI.\""
     },
     "execution_count": 4,
     "metadata": {},
     "output_type": "execute_result"
    }
   ],
   "source": [
    "with open(os.path.join(os.environ['HOME'], '.ssh', 'openai-zillow.key'), 'r') as f:\n",
    "    key = ''.join(f.readlines()).strip()\n",
    "os.environ[\"OPENAI_API_KEY\"] = key\n",
    "os.environ[\"OPENAI_API_BASE\"] = \"https://zgai-llm-api.int.stage-k8s.zg-aip.net/openai/v1\"\n",
    "llm = ChatOpenAI(model_name=GPT_MODEL, temperature=TEMPERATURE)\n",
    "\n",
    "conversation = ConversationChain(llm=llm)\n",
    "conversation.predict(input=\"What's your model version?\")"
   ]
  },
  {
   "cell_type": "code",
   "execution_count": 11,
   "metadata": {
    "collapsed": false,
    "execution": {
     "iopub.execute_input": "2023-07-31T06:11:10.111826Z",
     "iopub.status.busy": "2023-07-31T06:11:10.111407Z",
     "iopub.status.idle": "2023-07-31T06:12:26.695021Z",
     "shell.execute_reply": "2023-07-31T06:12:26.694244Z",
     "shell.execute_reply.started": "2023-07-31T06:11:10.111799Z"
    },
    "jupyter": {
     "outputs_hidden": false
    }
   },
   "outputs": [],
   "source": [
    "prompts = PromptSet.load_defaults()\n",
    "logger = MarkdownLogger('logs/taogpt_log.md')\n",
    "executor = Orchestrator(llm=LangChainLLM(llm, logger=logger), prompts=prompts, markdown_logger=logger)\n",
    "executor.start(\"\"\"In the N-queen problem, place N queens on the N-by-N chessboard such that no two queens are on\n",
    "the same straight line horizontally, vertically, or diagonally. Solve the following 4-queen problem. Queens already\n",
    "on the board **cannot** be moved or removed.\n",
    "\n",
    "```\n",
    "...Q\n",
    "Q...\n",
    "..Q.\n",
    "....\n",
    "```\n",
    "\"\"\")"
   ]
  },
  {
   "cell_type": "code",
   "execution_count": 12,
   "metadata": {
    "collapsed": false,
    "execution": {
     "iopub.execute_input": "2023-07-31T06:12:26.696369Z",
     "iopub.status.busy": "2023-07-31T06:12:26.696162Z",
     "iopub.status.idle": "2023-07-31T06:12:26.726978Z",
     "shell.execute_reply": "2023-07-31T06:12:26.726366Z",
     "shell.execute_reply.started": "2023-07-31T06:12:26.696352Z"
    },
    "jupyter": {
     "outputs_hidden": false
    }
   },
   "outputs": [],
   "source": [
    "logger = MarkdownLogger('/tmp/taogpt_final.md')\n",
    "logger.log_conversation(executor.show_conversation_thread(with_extras=True))"
   ]
  },
  {
   "cell_type": "code",
   "execution_count": 13,
   "metadata": {
    "collapsed": false,
    "execution": {
     "iopub.execute_input": "2023-07-31T06:12:26.728306Z",
     "iopub.status.busy": "2023-07-31T06:12:26.728050Z",
     "iopub.status.idle": "2023-07-31T06:12:26.762760Z",
     "shell.execute_reply": "2023-07-31T06:12:26.762149Z",
     "shell.execute_reply.started": "2023-07-31T06:12:26.728288Z"
    },
    "jupyter": {
     "outputs_hidden": false
    }
   },
   "outputs": [
    {
     "data": {
      "text/html": "<div style=\"background-color: beige; text-align: center; padding: 5px\">\n<h1>Final path history</h1>\n</div>\n<div style=\"background-color:lightgreen; display: flex; border-bottom: 1px dotted grey\">\n<div style=\"flex: 130px\">\n<p>[0] <strong>user</strong></p>\n</div>\n<div style=\"flex: 100%; border-left: 1px dotted grey; padding-left: 5px\">\n<p>In the N-queen problem, place N queens on the N-by-N chessboard such that no two queens are on\nthe same straight line horizontally, vertically, or diagonally. Solve the following 4-queen problem. Queens already\non the board <strong>cannot</strong> be moved or removed.</p>\n<pre><code>...Q\nQ...\n..Q.\n....\n</code></pre>\n</div>\n</div>\n<div style=\"background-color:lightcyan; display: flex; border-bottom: 1px dotted grey\">\n<div style=\"flex: 130px\">\n<p>[1] <strong>orchestrator</strong></p>\n</div>\n<div style=\"flex: 100%; border-left: 1px dotted grey; padding-left: 5px\">\n<p>Please provide a brief analysis the task problem, focus on any fundamental issues, errors, contradictions, or\ninvalid assumptions found in the task. Do not try to solve the problem, just provide analysis.</p>\n</div>\n</div>\n<div style=\"background-color:lightyellow; display: flex; border-bottom: 1px dotted grey\">\n<div style=\"flex: 130px\">\n<p>[2] <strong>Tao</strong></p>\n</div>\n<div style=\"flex: 100%; border-left: 1px dotted grey; padding-left: 5px\">\n<p>The task is a variant of the N-queens problem, a classic problem in computer science and mathematics. The N-queens problem involves placing N queens on an N by N chessboard such that no two queens threaten each other. This means that no two queens can be in the same row, column, or diagonal line.</p>\n<p>In this particular task, we have a 4 by 4 chessboard and three queens are already placed on it. The task is to find a location for the fourth queen that doesn't violate any of the constraints. The primary challenge here is to identify a location that is not in the same row, column, or diagonal line as the existing queens.</p>\n<p>However, the task does not specify which queen positions are fixed. We have to assume that the existing queens cannot be moved. This could possibly make the task impossible to complete if the initial placement of the queens already violates the constraints of the N-queens problem.</p>\n<p>If the problem is well-defined and the initial placement of the queens doesn't violate the constraints, then the task could likely be solved by systematically checking the remaining open positions on the board and placing the fourth queen in a valid location. One possible issue could be that there is no valid position left for the fourth queen based on the current layout of the other queens.</p>\n<p>Overall, the task is clear and well-defined, but its solvability depends on the initial placement of the queens.</p>\n</div>\n</div>\n<div style=\"background-color:lightcyan; display: flex; border-bottom: 1px dotted grey\">\n<div style=\"flex: 130px\">\n<p>[3] <strong>orchestrator</strong></p>\n</div>\n<div style=\"flex: 100%; border-left: 1px dotted grey; padding-left: 5px\">\n<p>How do you want to proceed?</p>\n</div>\n</div>\n<div style=\"background-color:lightyellow; display: flex; border-bottom: 1px dotted grey\">\n<div style=\"flex: 130px\">\n<p>[4] <strong>Tao</strong></p>\n</div>\n<div style=\"flex: 100%; border-left: 1px dotted grey; padding-left: 5px\">\n<p>As per the problem statement, we need to place the fourth queen on a 4x4 chessboard and it should not be in the same row, column, or diagonal line as the existing queens.</p>\n<p>A general approach to solve this problem will be:</p>\n<ol>\n<li><strong>Analyze the current board</strong>: Understand the positions of the current queens and the vacant spaces available for placing the fourth queen.</li>\n<li><strong>Identify all possible placements for the fourth queen</strong>: List down all the places where the fourth queen could be placed without violating the constraints of the problem.</li>\n<li><strong>Check for the constraints</strong>: For each possible placement, check if it is in the same row, column, or diagonal line as any of the existing queens.</li>\n<li><strong>Place the fourth queen</strong>: Once a valid placement is found, place the fourth queen in that position. If no valid placement is found, it means the problem is unsolvable.</li>\n</ol>\n<p>These steps should help in finding a valid placement for the fourth queen in the N-queen problem.</p>\n</div>\n</div>\n<div style=\"background-color:lightcyan; display: flex; border-bottom: 1px dotted grey\">\n<div style=\"flex: 130px\">\n<p>[5] <strong>orchestrator</strong></p>\n</div>\n<div style=\"flex: 100%; border-left: 1px dotted grey; padding-left: 5px\">\n<p>Tao, you have chosen the next step: Analyze the current board.</p>\n<p>Please proceed to work on that step. You <strong>must follow the response templates strictly</strong> so that your orchestrator\ncan parse your response.</p>\n</div>\n</div>\n<div style=\"background-color:lightyellow; display: flex; border-bottom: 1px dotted grey\">\n<div style=\"flex: 130px\">\n<p>[6] <strong>Tao</strong></p>\n</div>\n<div style=\"flex: 100%; border-left: 1px dotted grey; padding-left: 5px\">\n<p>The current state of the board can be represented as a 4x4 matrix. The existing queens are represented by 'Q' and the empty spaces by '.'. The board looks like this:</p>\n<pre><code>...Q\nQ...\n..Q.\n....\n</code></pre>\n<p>Rows are numbered from 1 to 4 from top to bottom and columns are numbered from left to right.</p>\n<p>The coordinates of the queens are as follows:</p>\n<ul>\n<li>Queen 1: Row 1, Column 4</li>\n<li>Queen 2: Row 2, Column 1</li>\n<li>Queen 3: Row 3, Column 3</li>\n</ul>\n<p>The fourth row is completely empty and there are empty spaces in column 2 and column 4.</p>\n<h3>UPDATE_SCRATCHPAD_TO:</h3>\n<pre><code>Queens&#x27; Positions:\n- Queen 1: Row 1, Column 4\n- Queen 2: Row 2, Column 1\n- Queen 3: Row 3, Column 3\n\nPossible Positions for 4th Queen:\n- Row 4, Column 2\n- Row 4, Column 4\n</code></pre>\n</div>\n</div>\n<div style=\"background-color:lightcyan; display: flex; border-bottom: 1px dotted grey\">\n<div style=\"flex: 130px\">\n<p>[7] <strong>orchestrator</strong></p>\n</div>\n<div style=\"flex: 100%; border-left: 1px dotted grey; padding-left: 5px\">\n<p>Tao, you have chosen the next step: Identify all possible placements for the fourth queen.</p>\n<p>Please proceed to work on that step. You <strong>must follow the response templates strictly</strong> so that your orchestrator\ncan parse your response.</p>\n</div>\n</div>\n<div style=\"background-color:lightyellow; display: flex; border-bottom: 1px dotted grey\">\n<div style=\"flex: 130px\">\n<p>[8] <strong>Tao</strong></p>\n</div>\n<div style=\"flex: 100%; border-left: 1px dotted grey; padding-left: 5px\">\n<p>Based on the current state of the board, the remaining vacant positions are:</p>\n<ul>\n<li>Row 4, Column 2</li>\n<li>Row 4, Column 4</li>\n</ul>\n<p>However, we need to verify if these positions are valid, i.e., they don't lie on the same row, column, or diagonal as any of the existing queens.</p>\n<p>Let's check:</p>\n<ul>\n<li>Position: Row 4, Column 2</li>\n</ul>\n<p>This position is not in the same row or column as any of the existing queens. However, it falls on the same diagonal as Queen 1 (Row 1, Column 4). So, this position is not valid.</p>\n<ul>\n<li>Position: Row 4, Column 4</li>\n</ul>\n<p>This position is in the same column as Queen 1 (Row 1, Column 4), so this position is not valid.</p>\n<p>Therefore, there are no valid positions left on the board for the fourth queen.</p>\n<h3>UPDATE_SCRATCHPAD_TO:</h3>\n<pre><code>Queens&#x27; Positions:\n- Queen 1: Row 1, Column 4\n- Queen 2: Row 2, Column 1\n- Queen 3: Row 3, Column 3\n\nPossible Positions for 4th Queen:\n- None\n</code></pre>\n</div>\n</div>\n<div style=\"background-color:lightyellow; display: flex; border-bottom: 1px dotted grey\">\n<div style=\"flex: 130px\">\n<p>[9] <strong>Tao</strong></p>\n</div>\n<div style=\"flex: 100%; border-left: 1px dotted grey; padding-left: 5px\">\n<p>Based on the analysis of the current state of the board and the remaining vacant positions, it's determined that there are no valid positions left on the board for the fourth queen. The placement of the existing queens in this configuration does not allow for a fourth queen to be placed without violating the rules of the N-queens problem. Therefore, the problem is unsolvable with the current placement of queens.</p>\n</div>\n</div>\n"
     },
     "metadata": {},
     "output_type": "display_data"
    }
   ],
   "source": [
    "with open(logger._log_path, 'r') as f:\n",
    "    html_output = marko.convert(f.read())\n",
    "    with open('/tmp/taogpt_final.html', 'w') as out:\n",
    "        out.write(html_output)\n",
    "    display_html(html_output, raw=True)"
   ]
  },
  {
   "cell_type": "markdown",
   "source": [
    "## By GPT-4 with default system prompt (8/16/2023)\n",
    "\n",
    "The remaining queen can be placed in the second column of the last row. The final board would look like this:\n",
    "\n",
    "```\n",
    "...Q\n",
    "Q...\n",
    "..Q.\n",
    ".Q..\n",
    "```\n",
    "\n",
    "In the final arrangement no two queens are on the same straight line horizontally, vertically, or diagonally."
   ],
   "metadata": {
    "collapsed": false
   }
  },
  {
   "cell_type": "code",
   "execution_count": null,
   "outputs": [],
   "source": [],
   "metadata": {
    "collapsed": false
   }
  }
 ],
 "metadata": {
  "kernelspec": {
   "display_name": "Python 3 (ipykernel)",
   "language": "python",
   "name": "python3"
  },
  "language_info": {
   "codemirror_mode": {
    "name": "ipython",
    "version": 3
   },
   "file_extension": ".py",
   "mimetype": "text/x-python",
   "name": "python",
   "nbconvert_exporter": "python",
   "pygments_lexer": "ipython3",
   "version": "3.9.16"
  }
 },
 "nbformat": 4,
 "nbformat_minor": 4
}
