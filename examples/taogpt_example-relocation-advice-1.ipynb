{
 "cells": [
  {
   "cell_type": "code",
   "execution_count": null,
   "metadata": {
    "collapsed": false,
    "jupyter": {
     "outputs_hidden": false
    }
   },
   "outputs": [],
   "source": [
    "!pip3 install langchain openai marko"
   ]
  },
  {
   "cell_type": "code",
   "execution_count": 1,
   "metadata": {
    "collapsed": false,
    "execution": {
     "iopub.execute_input": "2023-07-30T22:02:20.696966Z",
     "iopub.status.busy": "2023-07-30T22:02:20.696274Z",
     "iopub.status.idle": "2023-07-30T22:02:20.733382Z",
     "shell.execute_reply": "2023-07-30T22:02:20.732609Z",
     "shell.execute_reply.started": "2023-07-30T22:02:20.696934Z"
    },
    "jupyter": {
     "outputs_hidden": false
    }
   },
   "outputs": [],
   "source": [
    "%load_ext autoreload\n",
    "%autoreload 2"
   ]
  },
  {
   "cell_type": "code",
   "execution_count": 2,
   "metadata": {
    "execution": {
     "iopub.execute_input": "2023-07-30T22:02:21.827809Z",
     "iopub.status.busy": "2023-07-30T22:02:21.827541Z",
     "iopub.status.idle": "2023-07-30T22:02:23.961675Z",
     "shell.execute_reply": "2023-07-30T22:02:23.960714Z",
     "shell.execute_reply.started": "2023-07-30T22:02:21.827787Z"
    }
   },
   "outputs": [],
   "source": [
    "from langchain.chat_models import ChatOpenAI\n",
    "from langchain.chains import ConversationChain\n",
    "import os\n",
    "from IPython.display import display_html\n",
    "import marko\n",
    "\n",
    "from taogpt.orchestrator import *\n",
    "from taogpt.utils import *\n",
    "from taogpt.solver_model import LangChainLLM, PromptSet\n",
    "import taogpt.utils as utils\n",
    "\n",
    "utils.enable_debugging(0)"
   ]
  },
  {
   "cell_type": "code",
   "execution_count": 3,
   "metadata": {
    "collapsed": false,
    "execution": {
     "iopub.execute_input": "2023-07-30T22:02:24.405855Z",
     "iopub.status.busy": "2023-07-30T22:02:24.405357Z",
     "iopub.status.idle": "2023-07-30T22:02:24.441328Z",
     "shell.execute_reply": "2023-07-30T22:02:24.440401Z",
     "shell.execute_reply.started": "2023-07-30T22:02:24.405827Z"
    },
    "jupyter": {
     "outputs_hidden": false
    }
   },
   "outputs": [],
   "source": [
    "GPT_MODEL = 'gpt-4'\n",
    "TEMPERATURE = 0.7"
   ]
  },
  {
   "cell_type": "code",
   "execution_count": 4,
   "metadata": {
    "collapsed": false,
    "execution": {
     "iopub.execute_input": "2023-07-30T22:02:26.139053Z",
     "iopub.status.busy": "2023-07-30T22:02:26.138363Z",
     "iopub.status.idle": "2023-07-30T22:02:29.109124Z",
     "shell.execute_reply": "2023-07-30T22:02:29.108338Z",
     "shell.execute_reply.started": "2023-07-30T22:02:26.139027Z"
    },
    "jupyter": {
     "outputs_hidden": false
    }
   },
   "outputs": [
    {
     "data": {
      "text/plain": [
       "\"As an AI developed by OpenAI, I'm based on the GPT-3 model. However, I don't have a specific version number, as updates and improvements are continuously made to my programming.\""
      ]
     },
     "execution_count": 4,
     "metadata": {},
     "output_type": "execute_result"
    }
   ],
   "source": [
    "with open(os.path.join(os.environ['HOME'], '.ssh', 'openai-zillow.key'), 'r') as f:\n",
    "    key = ''.join(f.readlines()).strip()\n",
    "os.environ[\"OPENAI_API_KEY\"] = key\n",
    "os.environ[\"OPENAI_API_BASE\"] = \"https://zgai-llm-api.int.stage-k8s.zg-aip.net/openai/v1\"\n",
    "llm = ChatOpenAI(model_name=GPT_MODEL, temperature=TEMPERATURE)\n",
    "\n",
    "conversation = ConversationChain(llm=llm)\n",
    "conversation.predict(input=\"What's your model version?\")"
   ]
  },
  {
   "cell_type": "code",
   "execution_count": 6,
   "metadata": {
    "collapsed": false,
    "execution": {
     "iopub.execute_input": "2023-07-30T22:09:51.902667Z",
     "iopub.status.busy": "2023-07-30T22:09:51.902323Z",
     "iopub.status.idle": "2023-07-30T22:18:04.832369Z",
     "shell.execute_reply": "2023-07-30T22:18:04.831795Z",
     "shell.execute_reply.started": "2023-07-30T22:09:51.902644Z"
    },
    "jupyter": {
     "outputs_hidden": false
    }
   },
   "outputs": [
    {
     "name": "stdout",
     "output_type": "stream",
     "text": [
      "Tao, the problem tackler, asks you a few questions for clarification. Please reply all questions.\n",
      "My dear user, I have some questions before I can proceed:\n",
      "\n",
      "1. Are you moving alone or with a family? [This would help me determine the type of neighborhood that would be suitable for you]\n",
      "2. What is your budget for rent or purchasing a home? [This is necessary to filter out areas that would not be financially feasible]\n",
      "3. Do you prefer a bustling city life or a quiet suburban life? [This will help in choosing between city areas and more residential areas]\n",
      "4. Where will you be working? Would you prefer to live close to your workplace or are you willing to commute? [This will help determine the proximity to your workplace]\n",
      "5. What are your hobbies and interests? Do you prefer outdoor activities, cultural events, or other specific amenities? [This can help identify areas with access to activities that you enjoy]\n",
      "6. How important is it for you to have access to public transportation? [This will help in selecting areas with good public transportation links]\n"
     ]
    },
    {
     "name": "stdin",
     "output_type": "stream",
     "text": [
      "My dear user, I have some questions before I can proceed:\n",
      "\n",
      "1. Are you moving alone or with a family? [This would help me determine the type of neighborhood that would be suitable for you]\n",
      "2. What is your budget for rent or purchasing a home? [This is necessary to filter out areas that would not be financially feasible]\n",
      "3. Do you prefer a bustling city life or a quiet suburban life? [This will help in choosing between city areas and more residential areas]\n",
      "4. Where will you be working? Would you prefer to live close to your workplace or are you willing to commute? [This will help determine the proximity to your workplace]\n",
      "5. What are your hobbies and interests? Do you prefer outdoor activities, cultural events, or other specific amenities? [This can help identify areas with access to activities that you enjoy]\n",
      "6. How important is it for you to have access to public transportation? [This will help in selecting areas with good public transportation links]\n",
      "Please reply to Tao: 1. one kid; 2. $2000/month. 3. suburban; 4. south bay; 5. not a concern; 6. I drive.\n"
     ]
    },
    {
     "name": "stdout",
     "output_type": "stream",
     "text": [
      "Tao, the problem tackler, asks you a few questions for clarification. Please reply all questions.\n",
      "My dear user, I have some questions before I can proceed:\n",
      "\n",
      "1. When you say 'South Bay', are you referring to specific cities or the entire area in general? [This would help in narrowing down the options]\n",
      "2. What's the maximum distance you are willing to commute to work each day? [This would help in finding places within a comfortable distance from your workplace]\n",
      "3. What type of schooling system are you looking for your kid? [This would help in choosing a location with good schools]\n",
      "4. Are there any specific amenities (like parks, shopping centers, etc.) that you want in your neighborhood? [This would help in finding a place that suits your lifestyle]\n"
     ]
    },
    {
     "name": "stdin",
     "output_type": "stream",
     "text": [
      "My dear user, I have some questions before I can proceed:\n",
      "\n",
      "1. When you say 'South Bay', are you referring to specific cities or the entire area in general? [This would help in narrowing down the options]\n",
      "2. What's the maximum distance you are willing to commute to work each day? [This would help in finding places within a comfortable distance from your workplace]\n",
      "3. What type of schooling system are you looking for your kid? [This would help in choosing a location with good schools]\n",
      "4. Are there any specific amenities (like parks, shopping centers, etc.) that you want in your neighborhood? [This would help in finding a place that suits your lifestyle]\n",
      "Please reply to Tao: 1. San Jose; 2. 45 minutes; 3. good schools; 4. some shopping places would be good\n"
     ]
    }
   ],
   "source": [
    "prompts = PromptSet.load_defaults()\n",
    "logger = MarkdownLogger('logs/taogpt_log.md')\n",
    "executor = Orchestrator(llm=LangChainLLM(llm, logger=logger), prompts=prompts, logger=logger)\n",
    "executor.start(\"\"\"I plan to relocate to San Francisco Bay Area next month. Where should I settle?\"\"\")"
   ]
  },
  {
   "cell_type": "code",
   "execution_count": 7,
   "metadata": {
    "collapsed": false,
    "execution": {
     "iopub.execute_input": "2023-07-30T22:19:03.868343Z",
     "iopub.status.busy": "2023-07-30T22:19:03.867935Z",
     "iopub.status.idle": "2023-07-30T22:19:03.923025Z",
     "shell.execute_reply": "2023-07-30T22:19:03.922275Z",
     "shell.execute_reply.started": "2023-07-30T22:19:03.868314Z"
    },
    "jupyter": {
     "outputs_hidden": false
    }
   },
   "outputs": [],
   "source": [
    "logger = MarkdownLogger('/tmp/taogpt_final.md')\n",
    "logger.log_conversation(executor.show_conversation_thread(with_extras=True))"
   ]
  },
  {
   "cell_type": "code",
   "execution_count": 8,
   "metadata": {
    "collapsed": false,
    "execution": {
     "iopub.execute_input": "2023-07-30T22:19:04.824031Z",
     "iopub.status.busy": "2023-07-30T22:19:04.823717Z",
     "iopub.status.idle": "2023-07-30T22:19:04.879640Z",
     "shell.execute_reply": "2023-07-30T22:19:04.878949Z",
     "shell.execute_reply.started": "2023-07-30T22:19:04.824005Z"
    },
    "jupyter": {
     "outputs_hidden": false
    }
   },
   "outputs": [
    {
     "data": {
      "text/html": [
       "<div style=\"background-color: beige; text-align: center; padding: 5px\">\n",
       "<h1>Final path history</h1>\n",
       "</div>\n",
       "<div style=\"background-color:lightgreen; display: flex; border-bottom: 1px dotted grey\">\n",
       "<div style=\"flex: 130px\">\n",
       "<p>[0] <strong>user</strong></p>\n",
       "</div>\n",
       "<div style=\"flex: 100%; border-left: 1px dotted grey; padding-left: 5px\">\n",
       "<p>I plan to relocate to San Francisco Bay Area next month. Where should I settle?</p>\n",
       "</div>\n",
       "</div>\n",
       "<div style=\"background-color:lightyellow; display: flex; border-bottom: 1px dotted grey\">\n",
       "<div style=\"flex: 130px\">\n",
       "<p>[1] <strong>Tao</strong></p>\n",
       "</div>\n",
       "<div style=\"flex: 100%; border-left: 1px dotted grey; padding-left: 5px\">\n",
       "<p>My dear user, I have some questions before I can proceed:</p>\n",
       "<ol>\n",
       "<li>Are you moving alone or with a family? [This would help me determine the type of neighborhood that would be suitable for you]</li>\n",
       "<li>What is your budget for rent or purchasing a home? [This is necessary to filter out areas that would not be financially feasible]</li>\n",
       "<li>Do you prefer a bustling city life or a quiet suburban life? [This will help in choosing between city areas and more residential areas]</li>\n",
       "<li>Where will you be working? Would you prefer to live close to your workplace or are you willing to commute? [This will help determine the proximity to your workplace]</li>\n",
       "<li>What are your hobbies and interests? Do you prefer outdoor activities, cultural events, or other specific amenities? [This can help identify areas with access to activities that you enjoy]</li>\n",
       "<li>How important is it for you to have access to public transportation? [This will help in selecting areas with good public transportation links]</li>\n",
       "</ol>\n",
       "</div>\n",
       "</div>\n",
       "<div style=\"background-color:lightgreen; display: flex; border-bottom: 1px dotted grey\">\n",
       "<div style=\"flex: 130px\">\n",
       "<p>[2] <strong>user</strong></p>\n",
       "</div>\n",
       "<div style=\"flex: 100%; border-left: 1px dotted grey; padding-left: 5px\">\n",
       "<ol>\n",
       "<li>one kid; 2. $2000/month. 3. suburban; 4. south bay; 5. not a concern; 6. I drive.</li>\n",
       "</ol>\n",
       "</div>\n",
       "</div>\n",
       "<div style=\"background-color:lightcyan; display: flex; border-bottom: 1px dotted grey\">\n",
       "<div style=\"flex: 130px\">\n",
       "<p>[3] <strong>orchestrator</strong></p>\n",
       "</div>\n",
       "<div style=\"flex: 100%; border-left: 1px dotted grey; padding-left: 5px\">\n",
       "<p>Tao, you have chosen the next step: Where should I settle?</p>\n",
       "<p>Please proceed to work on that step.</p>\n",
       "</div>\n",
       "</div>\n",
       "<div style=\"background-color:lightyellow; display: flex; border-bottom: 1px dotted grey\">\n",
       "<div style=\"flex: 130px\">\n",
       "<p>[4] <strong>Tao</strong></p>\n",
       "</div>\n",
       "<div style=\"flex: 100%; border-left: 1px dotted grey; padding-left: 5px\">\n",
       "<p>My dear user, I have some questions before I can proceed:</p>\n",
       "<ol>\n",
       "<li>When you say 'South Bay', are you referring to specific cities or the entire area in general? [This would help in narrowing down the options]</li>\n",
       "<li>What's the maximum distance you are willing to commute to work each day? [This would help in finding places within a comfortable distance from your workplace]</li>\n",
       "<li>What type of schooling system are you looking for your kid? [This would help in choosing a location with good schools]</li>\n",
       "<li>Are there any specific amenities (like parks, shopping centers, etc.) that you want in your neighborhood? [This would help in finding a place that suits your lifestyle]</li>\n",
       "</ol>\n",
       "</div>\n",
       "</div>\n",
       "<div style=\"background-color:lightgreen; display: flex; border-bottom: 1px dotted grey\">\n",
       "<div style=\"flex: 130px\">\n",
       "<p>[5] <strong>user</strong></p>\n",
       "</div>\n",
       "<div style=\"flex: 100%; border-left: 1px dotted grey; padding-left: 5px\">\n",
       "<ol>\n",
       "<li>San Jose; 2. 45 minutes; 3. good schools; 4. some shopping places would be good</li>\n",
       "</ol>\n",
       "</div>\n",
       "</div>\n",
       "<div style=\"background-color:lightcyan; display: flex; border-bottom: 1px dotted grey\">\n",
       "<div style=\"flex: 130px\">\n",
       "<p>[6] <strong>orchestrator</strong></p>\n",
       "</div>\n",
       "<div style=\"flex: 100%; border-left: 1px dotted grey; padding-left: 5px\">\n",
       "<p>Tao, you have chosen the next step: Analyzing the user's requirements and preferences to recommend a suitable location.</p>\n",
       "<p>Please proceed to work on that step.</p>\n",
       "</div>\n",
       "</div>\n",
       "<div style=\"background-color:lightyellow; display: flex; border-bottom: 1px dotted grey\">\n",
       "<div style=\"flex: 130px\">\n",
       "<p>[7] <strong>Tao</strong></p>\n",
       "</div>\n",
       "<div style=\"flex: 100%; border-left: 1px dotted grey; padding-left: 5px\">\n",
       "<p>I recommend the city of Campbell.</p>\n",
       "<h2>UPDATE_SCRATCHPAD_TO</h2>\n",
       "<p>Recommended Location: Campbell, CA\n",
       "Reason: Suburban area, Good schools, Within 45-minute commute to San Jose, Variety of shopping places</p>\n",
       "</div>\n",
       "</div>\n",
       "<div style=\"background-color:lightcyan; display: flex; border-bottom: 1px dotted grey\">\n",
       "<div style=\"flex: 130px\">\n",
       "<p>[8] <strong>orchestrator</strong></p>\n",
       "</div>\n",
       "<div style=\"flex: 100%; border-left: 1px dotted grey; padding-left: 5px\">\n",
       "<p>Tao, you have chosen the next step: Explaining why Campbell is a suitable location.</p>\n",
       "<p>Please proceed to work on that step.</p>\n",
       "</div>\n",
       "</div>\n",
       "<div style=\"background-color:lightyellow; display: flex; border-bottom: 1px dotted grey\">\n",
       "<div style=\"flex: 130px\">\n",
       "<p>[9] <strong>Tao</strong></p>\n",
       "</div>\n",
       "<div style=\"flex: 100%; border-left: 1px dotted grey; padding-left: 5px\">\n",
       "<p>Campbell, CA is a suitable location for you to settle in the San Francisco Bay Area.</p>\n",
       "<h2>UPDATE_SCRATCHPAD_TO</h2>\n",
       "<p>Recommended Location: Campbell, CA\n",
       "Reason: Suburban area, Good schools, Within 45-minute commute to San Jose, Variety of shopping places</p>\n",
       "</div>\n",
       "</div>\n",
       "<div style=\"background-color:lightyellow; display: flex; border-bottom: 1px dotted grey\">\n",
       "<div style=\"flex: 130px\">\n",
       "<p>[10] <strong>Tao</strong></p>\n",
       "</div>\n",
       "<div style=\"flex: 100%; border-left: 1px dotted grey; padding-left: 5px\">\n",
       "<p>Based on your requirements and preferences, I recommend that you consider settling in Campbell, CA. It's a suburban area with good schools, within a 45-minute commute to San Jose, and it has a variety of shopping places.</p>\n",
       "</div>\n",
       "</div>\n"
      ]
     },
     "metadata": {},
     "output_type": "display_data"
    }
   ],
   "source": [
    "with open(logger._log_path, 'r') as f:\n",
    "    display_html(marko.convert(f.read()), raw=True)"
   ]
  },
  {
   "cell_type": "markdown",
   "source": [
    "## By GPT-4 with default system prompt (8/16/2023)\n",
    "\n",
    "That's a decision that depends on a lot of factors, such as your lifestyle, job location, budget, family situation, and personal preferences. Here are some popular choices:\n",
    "\n",
    "**1. San Francisco:** The city itself is a popular choice for many, particularly those who enjoy city life. There's a diverse range of neighborhoods such as the busy and trend-setting SoMa, the upscale and sunny Marina District, or artsy and bohemian Haight-Ashbury.\n",
    "\n",
    "**2. Silicon Valley (Palo Alto, Mountain View, Santa Clara, Sunnyvale, etc.):** These areas are close to many tech company headquarters, making them a convenient choice if you work in that industry.\n",
    "\n",
    "**3. East Bay (Oakland, Berkeley):** These cities have a cultural vibe all their own, with a vibrant arts scene, great restaurants, and beautiful parks and natural spaces.\n",
    "\n",
    "**4. North Bay (Marin County, Sausalito, Napa Valley):** These areas offer more laid-back and rural living, with beautiful scenery, close proximity to wine country, and in some areas, highly-rated schools.\n",
    "\n",
    "**5. Peninsula (San Mateo, Redwood City, Foster City):** Known for a higher quality of life, with less crowded neighborhoods, larger homes, and excellent schools.\n",
    "\n",
    "Remember, the San Francisco Bay Area is known for its high cost of living, especially when it comes to real estate and rental prices. It can be a good idea to spend some time researching housing prices in different areas to get a sense of what you can afford.\n",
    "\n",
    "Say, for example, you're interested in a 2-bedroom apartment. You can look up the average rental prices for 2-bedroom apartments in each area to compare. However, this will also depend on other factors like commuting distances, food and lifestyle expenses, etc."
   ],
   "metadata": {
    "collapsed": false
   }
  },
  {
   "cell_type": "code",
   "execution_count": null,
   "outputs": [],
   "source": [],
   "metadata": {
    "collapsed": false
   }
  }
 ],
 "metadata": {
  "kernelspec": {
   "display_name": "Python 3 (ipykernel)",
   "language": "python",
   "name": "python3"
  },
  "language_info": {
   "codemirror_mode": {
    "name": "ipython",
    "version": 3
   },
   "file_extension": ".py",
   "mimetype": "text/x-python",
   "name": "python",
   "nbconvert_exporter": "python",
   "pygments_lexer": "ipython3",
   "version": "3.9.16"
  }
 },
 "nbformat": 4,
 "nbformat_minor": 4
}
