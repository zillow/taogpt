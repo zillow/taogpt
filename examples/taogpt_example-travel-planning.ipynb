{
 "cells": [
  {
   "cell_type": "code",
   "execution_count": null,
   "metadata": {
    "collapsed": false,
    "jupyter": {
     "outputs_hidden": false
    }
   },
   "outputs": [],
   "source": [
    "!pip3 install langchain openai marko"
   ]
  },
  {
   "cell_type": "code",
   "execution_count": 1,
   "metadata": {
    "collapsed": false,
    "execution": {
     "iopub.execute_input": "2023-07-31T06:11:05.457691Z",
     "iopub.status.busy": "2023-07-31T06:11:05.457328Z",
     "iopub.status.idle": "2023-07-31T06:11:05.487385Z",
     "shell.execute_reply": "2023-07-31T06:11:05.486700Z",
     "shell.execute_reply.started": "2023-07-31T06:11:05.457663Z"
    },
    "jupyter": {
     "outputs_hidden": false
    }
   },
   "outputs": [],
   "source": [
    "%load_ext autoreload\n",
    "%autoreload 2"
   ]
  },
  {
   "cell_type": "code",
   "execution_count": 2,
   "metadata": {
    "execution": {
     "iopub.execute_input": "2023-07-31T06:11:06.040583Z",
     "iopub.status.busy": "2023-07-31T06:11:06.040283Z",
     "iopub.status.idle": "2023-07-31T06:11:08.236735Z",
     "shell.execute_reply": "2023-07-31T06:11:08.235796Z",
     "shell.execute_reply.started": "2023-07-31T06:11:06.040560Z"
    }
   },
   "outputs": [],
   "source": [
    "from langchain.chat_models import ChatOpenAI\n",
    "from langchain.chains import ConversationChain\n",
    "import os\n",
    "from IPython.display import display_html\n",
    "import marko\n",
    "\n",
    "from taogpt.orchestrator import *\n",
    "from taogpt.utils import *\n",
    "from taogpt.tao_model import LangChainLLM, PromptSet, get_last_conversation\n",
    "import taogpt.utils as utils\n",
    "\n",
    "utils.enable_debugging(0)"
   ]
  },
  {
   "cell_type": "code",
   "execution_count": 82,
   "metadata": {
    "collapsed": false,
    "execution": {
     "iopub.execute_input": "2023-07-31T06:11:08.238613Z",
     "iopub.status.busy": "2023-07-31T06:11:08.238227Z",
     "iopub.status.idle": "2023-07-31T06:11:08.268068Z",
     "shell.execute_reply": "2023-07-31T06:11:08.267171Z",
     "shell.execute_reply.started": "2023-07-31T06:11:08.238592Z"
    },
    "jupyter": {
     "outputs_hidden": false
    }
   },
   "outputs": [],
   "source": [
    "GPT_MODEL = 'gpt-4-32k'\n",
    "TEMPERATURE = 0.7"
   ]
  },
  {
   "cell_type": "code",
   "execution_count": 83,
   "metadata": {
    "collapsed": false,
    "execution": {
     "iopub.execute_input": "2023-07-31T06:11:08.269654Z",
     "iopub.status.busy": "2023-07-31T06:11:08.269017Z",
     "iopub.status.idle": "2023-07-31T06:11:10.109116Z",
     "shell.execute_reply": "2023-07-31T06:11:10.108307Z",
     "shell.execute_reply.started": "2023-07-31T06:11:08.269630Z"
    },
    "jupyter": {
     "outputs_hidden": false
    }
   },
   "outputs": [
    {
     "data": {
      "text/plain": "\"I'm sorry, as an AI model, I don't have the ability to access real-time information about my model version. I'm designed based on OpenAI's language model, but my exact version or update information isn't available to me.\""
     },
     "execution_count": 83,
     "metadata": {},
     "output_type": "execute_result"
    }
   ],
   "source": [
    "with open(os.path.join(os.environ['HOME'], '.ssh', 'openai-zillow.key'), 'r') as f:\n",
    "    key = ''.join(f.readlines()).strip()\n",
    "os.environ[\"OPENAI_API_KEY\"] = key\n",
    "os.environ[\"OPENAI_API_BASE\"] = \"https://zgai-llm-api.int.stage-k8s.zg-aip.net/openai/v1\"\n",
    "llm = ChatOpenAI(model_name=GPT_MODEL, temperature=TEMPERATURE)\n",
    "\n",
    "conversation = ConversationChain(llm=llm)\n",
    "conversation.predict(input=\"What's your model version?\")"
   ]
  },
  {
   "cell_type": "code",
   "execution_count": 88,
   "metadata": {
    "collapsed": false,
    "execution": {
     "iopub.execute_input": "2023-07-31T06:11:10.111826Z",
     "iopub.status.busy": "2023-07-31T06:11:10.111407Z",
     "iopub.status.idle": "2023-07-31T06:12:26.695021Z",
     "shell.execute_reply": "2023-07-31T06:12:26.694244Z",
     "shell.execute_reply.started": "2023-07-31T06:11:10.111799Z"
    },
    "jupyter": {
     "outputs_hidden": false
    }
   },
   "outputs": [
    {
     "name": "stderr",
     "output_type": "stream",
     "text": [
      "Retrying langchain.chat_models.openai.ChatOpenAI.completion_with_retry.<locals>._completion_with_retry in 1.0 seconds as it raised ServiceUnavailableError: The server is overloaded or not ready yet..\n"
     ]
    },
    {
     "name": "stdout",
     "output_type": "stream",
     "text": [
      "Tao, the problem tackler, asks you a few questions for clarification. Please reply all questions.\n",
      "My dear user, I have some questions before I can proceed:\n",
      "\n",
      "1. Where are you traveling from? [This will determine the mode of transportation and route]\n",
      "2. What is your preferred mode of transportation? (Air, Rail, Road, Sea) [Some might have a preference or certain constraints]\n",
      "3. Do you need information about visa requirements for travel to Russia? [This is important as some nationalities require a visa to enter Russia]\n",
      "4. Would you like recommendations on accommodations and sightseeing in Moscow? [Some might want to know what to do or where to stay in Moscow]\n"
     ]
    },
    {
     "name": "stderr",
     "output_type": "stream",
     "text": [
      "Retrying langchain.chat_models.openai.ChatOpenAI.completion_with_retry.<locals>._completion_with_retry in 1.0 seconds as it raised APIError: HTTP code 504 from API (<html>\r\n",
      "<head><title>504 Gateway Time-out</title></head>\r\n",
      "<body>\r\n",
      "<center><h1>504 Gateway Time-out</h1></center>\r\n",
      "</body>\r\n",
      "</html>\r\n",
      ").\n"
     ]
    }
   ],
   "source": [
    "prompts = PromptSet.load_defaults()\n",
    "logger = MarkdownLogger('logs/taogpt_log.md')\n",
    "executor = Orchestrator(llm=LangChainLLM(llm, logger=logger), prompts=prompts, logger=logger)\n",
    "executor.start(\"\"\"How do I travel to Moscow?\n",
    "\"\"\")"
   ]
  },
  {
   "cell_type": "code",
   "execution_count": 89,
   "metadata": {
    "collapsed": false,
    "execution": {
     "iopub.execute_input": "2023-07-31T06:12:26.696369Z",
     "iopub.status.busy": "2023-07-31T06:12:26.696162Z",
     "iopub.status.idle": "2023-07-31T06:12:26.726978Z",
     "shell.execute_reply": "2023-07-31T06:12:26.726366Z",
     "shell.execute_reply.started": "2023-07-31T06:12:26.696352Z"
    },
    "jupyter": {
     "outputs_hidden": false
    }
   },
   "outputs": [],
   "source": [
    "logger = MarkdownLogger('/tmp/taogpt_final.md')\n",
    "logger.log_conversation(executor.show_conversation_thread(with_extras=True))"
   ]
  },
  {
   "cell_type": "code",
   "execution_count": 90,
   "metadata": {
    "collapsed": false,
    "execution": {
     "iopub.execute_input": "2023-07-31T06:12:26.728306Z",
     "iopub.status.busy": "2023-07-31T06:12:26.728050Z",
     "iopub.status.idle": "2023-07-31T06:12:26.762760Z",
     "shell.execute_reply": "2023-07-31T06:12:26.762149Z",
     "shell.execute_reply.started": "2023-07-31T06:12:26.728288Z"
    },
    "jupyter": {
     "outputs_hidden": false
    }
   },
   "outputs": [
    {
     "data": {
      "text/html": "<div style=\"background-color: beige; text-align: center; padding: 5px\">\n<h1>Final path history</h1>\n</div>\n<div style=\"background-color:lightgreen; display: flex; border-bottom: 1px dotted grey\">\n<div style=\"flex: 130px\">\n<p>[0] <strong>user</strong></p>\n</div>\n<div style=\"flex: 100%; border-left: 1px dotted grey; padding-left: 5px\">\n<p>How do I travel to Moscow?</p>\n</div>\n</div>\n<div style=\"background-color:lightyellow; display: flex; border-bottom: 1px dotted grey\">\n<div style=\"flex: 130px\">\n<p>[1] <strong>Tao</strong></p>\n</div>\n<div style=\"flex: 100%; border-left: 1px dotted grey; padding-left: 5px\">\n<p>My dear user, I have some questions before I can proceed:</p>\n<ol>\n<li>Where are you traveling from? [This will determine the mode of transportation and route]</li>\n<li>What is your preferred mode of transportation? (Air, Rail, Road, Sea) [Some might have a preference or certain constraints]</li>\n<li>Do you need information about visa requirements for travel to Russia? [This is important as some nationalities require a visa to enter Russia]</li>\n<li>Would you like recommendations on accommodations and sightseeing in Moscow? [Some might want to know what to do or where to stay in Moscow]</li>\n</ol>\n</div>\n</div>\n<div style=\"background-color:lightgreen; display: flex; border-bottom: 1px dotted grey\">\n<div style=\"flex: 130px\">\n<p>[2] <strong>user</strong></p>\n</div>\n<div style=\"flex: 100%; border-left: 1px dotted grey; padding-left: 5px\">\n<ol>\n<li>Urumuqi; 2. I'm afraid of flying; 3. I have Chinese and Russian visas, no time to get other visas; 4. no.</li>\n</ol>\n</div>\n</div>\n<div style=\"background-color:lightcyan; display: flex; border-bottom: 1px dotted grey\">\n<div style=\"flex: 130px\">\n<p>[3] <strong>orchestrator</strong></p>\n</div>\n<div style=\"flex: 100%; border-left: 1px dotted grey; padding-left: 5px\">\n<p>Tao, you have chosen the next step: Determining the best route from Urumuqi to Moscow considering the user's fear of flying and visa constraints.</p>\n<p>Please proceed to work on that step. You <strong>must follow the response templates strictly</strong> so that your orchestrator\ncan parse your response.</p>\n</div>\n</div>\n<div style=\"background-color:lightyellow; display: flex; border-bottom: 1px dotted grey\">\n<div style=\"flex: 130px\">\n<p>[4] <strong>Tao</strong></p>\n</div>\n<div style=\"flex: 100%; border-left: 1px dotted grey; padding-left: 5px\">\n<p>To establish the best route from Urumuqi to Moscow considering the user's fear of flying and visa constraints, we will need to:</p>\n<ol>\n<li>Identify possible routes from Urumuqi to Moscow by land (road or rail), given that the user is afraid of flying. [This will help us determine the potential paths the user can take]</li>\n<li>Understand the visa requirements for the countries along the identified routes. [This is necessary because the user has Chinese and Russian visas, with no time to get other visas. Therefore, we need to identify routes that only pass through China and Russia]</li>\n<li>Determine the most efficient route among the identified options. [This will help the user reach Moscow in the least amount of time while not having to fly and only making use of their existing visas]</li>\n<li>Provide the user with detailed instructions for their chosen route, including transportation methods, durations, and potential costs. [This will help the user plan their trip effectively]</li>\n</ol>\n</div>\n</div>\n<div style=\"background-color:lightcyan; display: flex; border-bottom: 1px dotted grey\">\n<div style=\"flex: 130px\">\n<p>[5] <strong>orchestrator</strong></p>\n</div>\n<div style=\"flex: 100%; border-left: 1px dotted grey; padding-left: 5px\">\n<p>Tao, you have chosen the next step: Identify possible routes from Urumuqi to Moscow by land (road or rail), given that the user is afraid of flying.</p>\n<p>Please proceed to work on that step. You <strong>must follow the response templates strictly</strong> so that your orchestrator\ncan parse your response.</p>\n</div>\n</div>\n<div style=\"background-color:lightyellow; display: flex; border-bottom: 1px dotted grey\">\n<div style=\"flex: 130px\">\n<p>[6] <strong>Tao</strong></p>\n</div>\n<div style=\"flex: 100%; border-left: 1px dotted grey; padding-left: 5px\">\n<ol>\n<li>Consult a map to identify possible land routes from Urumuqi to Moscow. [This will give us a general idea of the possible routes]</li>\n<li>Cross-reference these routes with available rail and road networks. [This will refine our options to feasible travel routes]</li>\n<li>Identify routes that only pass through countries for which the user already has visas (China and Russia). [This will ensure our chosen route is viable for the user given their visa constraints]</li>\n</ol>\n</div>\n</div>\n<div style=\"background-color:lightcyan; display: flex; border-bottom: 1px dotted grey\">\n<div style=\"flex: 130px\">\n<p>[7] <strong>orchestrator</strong></p>\n</div>\n<div style=\"flex: 100%; border-left: 1px dotted grey; padding-left: 5px\">\n<p>Tao, you have chosen the next step: Cross-reference these routes with available rail and road networks.</p>\n<p>Please proceed to work on that step. You <strong>must follow the response templates strictly</strong> so that your orchestrator\ncan parse your response.</p>\n</div>\n</div>\n<div style=\"background-color:lightyellow; display: flex; border-bottom: 1px dotted grey\">\n<div style=\"flex: 130px\">\n<p>[8] <strong>Tao</strong></p>\n</div>\n<div style=\"flex: 100%; border-left: 1px dotted grey; padding-left: 5px\">\n<ol>\n<li>Research the major road and rail networks that connect Urumuqi and Moscow. [We need to know the paths that are available for use]</li>\n<li>Identify the routes that directly connect China and Russia without passing through any other country. [This is important because the user has visas only for China and Russia]</li>\n<li>Record the identified routes. [This will be used in the next steps of the plan]</li>\n</ol>\n</div>\n</div>\n<div style=\"background-color:lightcyan; display: flex; border-bottom: 1px dotted grey\">\n<div style=\"flex: 130px\">\n<p>[9] <strong>orchestrator</strong></p>\n</div>\n<div style=\"flex: 100%; border-left: 1px dotted grey; padding-left: 5px\">\n<p>Tao, you have chosen the next step: Identify the routes that directly connect China and Russia without passing through any other country.</p>\n<p>Please proceed to work on that step. You <strong>must follow the response templates strictly</strong> so that your orchestrator\ncan parse your response.</p>\n</div>\n</div>\n<div style=\"background-color:lightyellow; display: flex; border-bottom: 1px dotted grey\">\n<div style=\"flex: 130px\">\n<p>[10] <strong>Tao</strong></p>\n</div>\n<div style=\"flex: 100%; border-left: 1px dotted grey; padding-left: 5px\">\n<p>The most straightforward route from Urumuqi, China to Moscow, Russia without having to pass through any other countries would be taking the Trans-Siberian Railway. The Trans-Siberian Railway is a network of railways connecting Moscow with the Russian Far East and the Sea of Japan. It has a branch, the Trans-Mongolian Railway, which connects to China.</p>\n<p>Therefore, the traveler can take a train from Urumuqi to Beijing, and from Beijing take the Trans-Mongolian Railway, which connects to the Trans-Siberian Railway, and go all the way to Moscow.</p>\n<p>This route only passes through China and Russia, so the user's existing visas would be sufficient.</p>\n<h3>UPDATE_SCRATCHPAD_TO:</h3>\n<p>Route: Urumuqi -&gt; Beijing -&gt; Moscow (via Trans-Siberian Railway)\nCountries passed through: China, Russia\nVisas required: Chinese visa, Russian visa\nMode of transport: Train</p>\n</div>\n</div>\n<div style=\"background-color:lightcyan; display: flex; border-bottom: 1px dotted grey\">\n<div style=\"flex: 130px\">\n<p>[11] <strong>orchestrator</strong></p>\n</div>\n<div style=\"flex: 100%; border-left: 1px dotted grey; padding-left: 5px\">\n<p>Tao, you have chosen the next step: Determine the most efficient route among the identified options.</p>\n<p>Please proceed to work on that step. You <strong>must follow the response templates strictly</strong> so that your orchestrator\ncan parse your response.</p>\n</div>\n</div>\n<div style=\"background-color:lightyellow; display: flex; border-bottom: 1px dotted grey\">\n<div style=\"flex: 130px\">\n<p>[12] <strong>Tao</strong></p>\n</div>\n<div style=\"flex: 100%; border-left: 1px dotted grey; padding-left: 5px\">\n<p>Given the constraints of the problem, the most efficient route is the one already identified: Urumuqi -&gt; Beijing -&gt; Moscow via the Trans-Siberian Railway. This is the most direct route by land that does not pass through any countries other than China and Russia, for which the user already has visas.</p>\n<p>This route makes use of existing rail networks, which should be reliable and relatively quick compared to other land-based options. While the journey will still take several days, it is likely the fastest option given the user's constraints.</p>\n<h3>UPDATE_SCRATCHPAD_TO:</h3>\n<p>Most efficient route: Urumuqi -&gt; Beijing -&gt; Moscow via the Trans-Siberian Railway\nReasoning: This is the most direct route by land that only passes through China and Russia. The user already has visas for these countries. The route makes use of existing rail networks, making it reliable and relatively quick.</p>\n</div>\n</div>\n<div style=\"background-color:lightcyan; display: flex; border-bottom: 1px dotted grey\">\n<div style=\"flex: 130px\">\n<p>[13] <strong>orchestrator</strong></p>\n</div>\n<div style=\"flex: 100%; border-left: 1px dotted grey; padding-left: 5px\">\n<p>Tao, you have chosen the next step: Provide the user with detailed instructions for their chosen route, including transportation methods, durations, and potential costs.</p>\n<p>Please proceed to work on that step. You <strong>must follow the response templates strictly</strong> so that your orchestrator\ncan parse your response.</p>\n</div>\n</div>\n<div style=\"background-color:lightyellow; display: flex; border-bottom: 1px dotted grey\">\n<div style=\"flex: 130px\">\n<p>[14] <strong>Tao</strong></p>\n</div>\n<div style=\"flex: 100%; border-left: 1px dotted grey; padding-left: 5px\">\n<p>Here are the detailed instructions for your journey from Urumuqi to Moscow:</p>\n<ol>\n<li>\n<p><strong>Urumuqi to Beijing by Train</strong>: The journey can take around 33 to 40 hours. You can take the Z180 train from Urumuqi South Station to Beijing West Station. The cost can vary depending on the class of your ticket but expect to pay around 700-1500 CNY.</p>\n</li>\n<li>\n<p><strong>Beijing to Moscow by Train</strong>: From Beijing, you can take the Trans-Mongolian Railway (Train K3) which departs every Wednesday from Beijing and arrives in Moscow in about 6 days. The cost is around 500-1000 USD depending on the class of your ticket.</p>\n</li>\n</ol>\n<p>Please note that these are approximate costs and travel times, and they can change depending on the time of year, ticket availability, and other factors. You should check the latest information before your journey.</p>\n<p>Safe travels!</p>\n<h3>UPDATE_SCRATCHPAD_TO:</h3>\n<p>Most efficient route: Urumuqi -&gt; Beijing -&gt; Moscow via the Trans-Siberian Railway\nReasoning: This is the most direct route by land that only passes through China and Russia. The user already has visas for these countries. The route makes use of existing rail networks, making it reliable and relatively quick.\nInstructions:</p>\n<ol>\n<li>Urumuqi to Beijing by Train: 33-40 hours, around 700-1500 CNY</li>\n<li>Beijing to Moscow by Train (Trans-Mongolian Railway): about 6 days, around 500-1000 USD</li>\n</ol>\n</div>\n</div>\n<div style=\"background-color:lightyellow; display: flex; border-bottom: 1px dotted grey\">\n<div style=\"flex: 130px\">\n<p>[15] <strong>Tao</strong></p>\n</div>\n<div style=\"flex: 100%; border-left: 1px dotted grey; padding-left: 5px\">\n<p>Here are the detailed instructions for your journey from Urumuqi to Moscow:</p>\n<ol>\n<li>\n<p><strong>Urumuqi to Beijing by Train</strong>: The journey can take around 33 to 40 hours. You can take the Z180 train from Urumuqi South Station to Beijing West Station. The cost can vary depending on the class of your ticket but expect to pay around 700-1500 CNY.</p>\n</li>\n<li>\n<p><strong>Beijing to Moscow by Train</strong>: From Beijing, you can take the Trans-Mongolian Railway (Train K3) which departs every Wednesday from Beijing and arrives in Moscow in about 6 days. The cost is around 500-1000 USD depending on the class of your ticket.</p>\n</li>\n</ol>\n<p>Please note that these are approximate costs and travel times, and they can change depending on the time of year, ticket availability, and other factors. You should check the latest information before your journey.</p>\n<p>Safe travels!</p>\n</div>\n</div>\n"
     },
     "metadata": {},
     "output_type": "display_data"
    }
   ],
   "source": [
    "with open(logger._log_path, 'r') as f:\n",
    "    display_html(marko.convert(f.read()), raw=True)"
   ]
  },
  {
   "cell_type": "markdown",
   "source": [
    "### Standard GPT-4 answer (How to travel to Moscow)\n",
    "\n",
    "Traveling to Moscow can be done in several ways depending on your location and preference. Here are some options:\n",
    "\n",
    "1. **By Air**: The most common way to travel to Moscow is by air. The city has three international airports: Sheremetyevo, Domodedovo, and Vnukovo. You can book a flight from your nearest international airport to one of these.\n",
    "\n",
    "2. **By Train**: If you're in Europe or Asia, you can also travel to Moscow by train. The Trans-Siberian Railway, for example, connects Moscow with cities across Russia and Mongolia, China, and North Korea.\n",
    "\n",
    "3. **By Car**: If you're in Europe, you can drive to Moscow. However, this can be a long journey and you'll need to ensure you have the necessary visas to travel through any countries on your route.\n",
    "\n",
    "4. **By Bus**: There are also international bus services that run to Moscow from many European cities.\n",
    "\n",
    "5. **By Boat**: If you're traveling from a Baltic Sea country, you can take a ferry to St. Petersburg and then a train or flight to Moscow.\n",
    "\n",
    "Remember to check visa requirements before you travel. As a travel agent, I can help you with booking flights, trains, or hotels."
   ],
   "metadata": {
    "collapsed": false
   }
  },
  {
   "cell_type": "markdown",
   "source": [
    "### Standard GPT-4 answer (Q: How to travel to Moscow from Urumuqi)\n",
    "\n",
    "To travel from Urumqi, China to Moscow, Russia, you have several options:\n",
    "\n",
    "1. **By Air**: This is the fastest and most convenient way. There are several airlines that operate flights from Urumqi to Moscow, including Aeroflot, Air China, and Hainan Airlines. The flight duration is approximately 6-7 hours, depending on the specific flight.\n",
    "\n",
    "2. **By Train**: This is a more scenic but much longer option. You can take a train from Urumqi to Moscow, which usually involves a transfer in Kazakhstan. The total journey can take up to 5-6 days.\n",
    "\n",
    "3. **By Road**: This is the longest and most challenging option. You can drive from Urumqi to Moscow, which would take approximately 3-4 days non-stop. However, this would be a very long and tiring journey, and it would require you to have the necessary visas to pass through the countries in between.\n",
    "\n",
    "Please note that the travel times are approximate and can vary depending on specific schedules and conditions. Also, due to the current COVID-19 situation, there may be additional travel restrictions and requirements. It's always a good idea to check the latest travel advisories and regulations before planning your trip."
   ],
   "metadata": {
    "collapsed": false
   }
  },
  {
   "cell_type": "code",
   "execution_count": null,
   "outputs": [],
   "source": [],
   "metadata": {
    "collapsed": false
   }
  }
 ],
 "metadata": {
  "kernelspec": {
   "display_name": "Python 3 (ipykernel)",
   "language": "python",
   "name": "python3"
  },
  "language_info": {
   "codemirror_mode": {
    "name": "ipython",
    "version": 3
   },
   "file_extension": ".py",
   "mimetype": "text/x-python",
   "name": "python",
   "nbconvert_exporter": "python",
   "pygments_lexer": "ipython3",
   "version": "3.9.16"
  }
 },
 "nbformat": 4,
 "nbformat_minor": 4
}
